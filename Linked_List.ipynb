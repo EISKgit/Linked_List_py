{
  "nbformat": 4,
  "nbformat_minor": 0,
  "metadata": {
    "colab": {
      "provenance": [],
      "authorship_tag": "ABX9TyOmB5TUyu1wjPh230ZLbYUF",
      "include_colab_link": true
    },
    "kernelspec": {
      "name": "python3",
      "display_name": "Python 3"
    },
    "language_info": {
      "name": "python"
    }
  },
  "cells": [
    {
      "cell_type": "markdown",
      "metadata": {
        "id": "view-in-github",
        "colab_type": "text"
      },
      "source": [
        "<a href=\"https://colab.research.google.com/github/EISKgit/Linked_List_py/blob/master/Linked_List.ipynb\" target=\"_parent\"><img src=\"https://colab.research.google.com/assets/colab-badge.svg\" alt=\"Open In Colab\"/></a>"
      ]
    },
    {
      "cell_type": "markdown",
      "source": [
        "# Creating a Linked List"
      ],
      "metadata": {
        "id": "O9B5a2qf8goC"
      }
    },
    {
      "cell_type": "code",
      "source": [
        "#LL Node\n",
        "class Node:\n",
        "    def __init__(self, value):\n",
        "        self.value = value\n",
        "        self.next = None"
      ],
      "metadata": {
        "id": "MhA4DQTG8pxw"
      },
      "execution_count": 1,
      "outputs": []
    },
    {
      "cell_type": "code",
      "source": [
        "#1 create LL class\n",
        "class LinkedList:\n",
        "\n",
        "    #2 constructor\n",
        "    def __init__(self):\n",
        "        self.head=None\n",
        "        self.n=0\n",
        "\n",
        "    #3 length of LL\n",
        "    def __len__(self):\n",
        "      return self.n\n",
        "\n",
        "    #4 insert from head\n",
        "    def insert_head(self, value):\n",
        "      new_node=Node(value)\n",
        "      new_node.next=self.head\n",
        "      self.head=new_node\n",
        "      self.n+=1\n",
        "\n",
        "    #5 Traverse/print LL\n",
        "    def __str__(self):\n",
        "      curr = self.head\n",
        "      res = ''\n",
        "      while curr != None:\n",
        "        res += str(curr.value) + '->'\n",
        "        curr=curr.next\n",
        "      return res[:-2]\n",
        "\n",
        "    #6 Append the new Node(Tail)\n",
        "    def append(self, value):\n",
        "      new_node = Node(value)\n",
        "\n",
        "      curr = self.head\n",
        "\n",
        "      while curr.next != None:\n",
        "        curr = curr.next\n",
        "      curr.next = new_node\n",
        "      self.n += 1"
      ],
      "metadata": {
        "id": "8c1moIK28x0B"
      },
      "execution_count": 31,
      "outputs": []
    },
    {
      "cell_type": "code",
      "source": [
        "ll=LinkedList()\n",
        "ll.insert_head(1)\n",
        "ll.insert_head(2)\n",
        "ll.insert_head(3)"
      ],
      "metadata": {
        "id": "a5WH_P5T-elF"
      },
      "execution_count": 32,
      "outputs": []
    },
    {
      "cell_type": "code",
      "source": [
        "len(ll)"
      ],
      "metadata": {
        "id": "w0An7CqiDsvV",
        "outputId": "ea7dfbe3-ed03-432a-cfcd-22b9de08bcb0",
        "colab": {
          "base_uri": "https://localhost:8080/"
        }
      },
      "execution_count": 34,
      "outputs": [
        {
          "output_type": "execute_result",
          "data": {
            "text/plain": [
              "3"
            ]
          },
          "metadata": {},
          "execution_count": 34
        }
      ]
    },
    {
      "cell_type": "code",
      "source": [
        "print(ll)"
      ],
      "metadata": {
        "id": "2_RtTciUDltg",
        "outputId": "482fcc00-045e-4401-a24d-0a2057c35060",
        "colab": {
          "base_uri": "https://localhost:8080/"
        }
      },
      "execution_count": 35,
      "outputs": [
        {
          "output_type": "stream",
          "name": "stdout",
          "text": [
            "3->2->1\n"
          ]
        }
      ]
    },
    {
      "cell_type": "code",
      "source": [
        "ll.append(0)\n",
        "print(ll)"
      ],
      "metadata": {
        "id": "ltwTDQCZDoAb",
        "outputId": "0b232f9d-3372-4372-989f-5062cceb5990",
        "colab": {
          "base_uri": "https://localhost:8080/"
        }
      },
      "execution_count": 36,
      "outputs": [
        {
          "output_type": "stream",
          "name": "stdout",
          "text": [
            "3->2->1->0\n"
          ]
        }
      ]
    },
    {
      "cell_type": "code",
      "source": [
        "len(ll)"
      ],
      "metadata": {
        "id": "7T9AmPLLDxrG",
        "outputId": "02f39475-33f1-4b87-af33-bf9e7e47b3fe",
        "colab": {
          "base_uri": "https://localhost:8080/"
        }
      },
      "execution_count": 37,
      "outputs": [
        {
          "output_type": "execute_result",
          "data": {
            "text/plain": [
              "4"
            ]
          },
          "metadata": {},
          "execution_count": 37
        }
      ]
    },
    {
      "cell_type": "code",
      "source": [],
      "metadata": {
        "id": "vB2vPr9IDuJV"
      },
      "execution_count": null,
      "outputs": []
    }
  ]
}