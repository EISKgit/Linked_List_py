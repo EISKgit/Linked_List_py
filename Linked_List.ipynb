{
  "nbformat": 4,
  "nbformat_minor": 0,
  "metadata": {
    "colab": {
      "provenance": [],
      "authorship_tag": "ABX9TyMkOHRrEBv+rTJJJeUdw13X",
      "include_colab_link": true
    },
    "kernelspec": {
      "name": "python3",
      "display_name": "Python 3"
    },
    "language_info": {
      "name": "python"
    }
  },
  "cells": [
    {
      "cell_type": "markdown",
      "metadata": {
        "id": "view-in-github",
        "colab_type": "text"
      },
      "source": [
        "<a href=\"https://colab.research.google.com/github/EISKgit/Linked_List_py/blob/master/Linked_List.ipynb\" target=\"_parent\"><img src=\"https://colab.research.google.com/assets/colab-badge.svg\" alt=\"Open In Colab\"/></a>"
      ]
    },
    {
      "cell_type": "markdown",
      "source": [
        "# Creating a Linked List"
      ],
      "metadata": {
        "id": "O9B5a2qf8goC"
      }
    },
    {
      "cell_type": "code",
      "source": [
        "#LL Node\n",
        "class Node:\n",
        "    def __init__(self, value):\n",
        "        self.value = value\n",
        "        self.next = None"
      ],
      "metadata": {
        "id": "MhA4DQTG8pxw"
      },
      "execution_count": 1,
      "outputs": []
    },
    {
      "cell_type": "code",
      "source": [
        "#1 create LL class\n",
        "class LinkedList:\n",
        "\n",
        "    #2 constructor\n",
        "    def __init__(self):\n",
        "        self.head=None\n",
        "        self.n=0\n",
        "\n",
        "    #3 length of LL\n",
        "    def __len__(self):\n",
        "      return self.n\n",
        "\n",
        "    #4 insert from head\n",
        "    def insert_head(self, value):\n",
        "      new_node=Node(value)\n",
        "      new_node.next=self.head\n",
        "      self.head=new_node\n",
        "      self.n+=1\n",
        "\n",
        "    #5 Traverse/print LL\n",
        "    def __str__(self):\n",
        "      curr = self.head\n",
        "      res = ''\n",
        "      while curr != None:\n",
        "        res += str(curr.value) + '->'\n",
        "        curr=curr.next\n",
        "      return res[:-2]\n",
        "\n",
        "    #6 Append the new Node(Tail)\n",
        "    def append(self, value):\n",
        "      new_node = Node(value)\n",
        "      if self.head == None:\n",
        "        self.head = new_node\n",
        "        self.n += 1\n",
        "        return\n",
        "\n",
        "      curr = self.head\n",
        "\n",
        "      while curr.next != None:\n",
        "        curr = curr.next\n",
        "      curr.next = new_node\n",
        "      self.n += 1\n",
        "    #7 insert in middle/after in the LL\n",
        "    def insert_after(self, after, value):\n",
        "      new_node = Node(value)\n",
        "      curr = self.head\n",
        "      while curr !=None:\n",
        "        if curr.value == after:\n",
        "          break\n",
        "        curr = curr.next\n",
        "      if curr != None:\n",
        "        new_node.next = curr.next\n",
        "        curr.next = new_node\n",
        "        self.n += 1\n",
        "      else:\n",
        "        return \"Item not found\"\n"
      ],
      "metadata": {
        "id": "8c1moIK28x0B"
      },
      "execution_count": 45,
      "outputs": []
    },
    {
      "cell_type": "code",
      "source": [
        "ll=LinkedList()\n",
        "ll.insert_head(1)\n",
        "ll.insert_head(2)\n",
        "ll.insert_head(3)"
      ],
      "metadata": {
        "id": "a5WH_P5T-elF"
      },
      "execution_count": 46,
      "outputs": []
    },
    {
      "cell_type": "code",
      "source": [
        "print(ll)"
      ],
      "metadata": {
        "id": "ybUAHKOEE0Ve",
        "outputId": "02d45fc0-a220-4f90-bda5-b7a6330db646",
        "colab": {
          "base_uri": "https://localhost:8080/"
        }
      },
      "execution_count": 47,
      "outputs": [
        {
          "output_type": "stream",
          "name": "stdout",
          "text": [
            "3->2->1\n"
          ]
        }
      ]
    },
    {
      "cell_type": "code",
      "source": [
        "ll.insert_after(3, 3.5)"
      ],
      "metadata": {
        "id": "fo-65vWhGd7Q"
      },
      "execution_count": 48,
      "outputs": []
    },
    {
      "cell_type": "code",
      "source": [
        "print(ll)"
      ],
      "metadata": {
        "id": "vnR1byWKGiBn",
        "outputId": "58e4123f-7c70-4dfe-f150-faba8b89eb39",
        "colab": {
          "base_uri": "https://localhost:8080/"
        }
      },
      "execution_count": 49,
      "outputs": [
        {
          "output_type": "stream",
          "name": "stdout",
          "text": [
            "3->3.5->2->1\n"
          ]
        }
      ]
    },
    {
      "cell_type": "code",
      "source": [
        "len(ll)"
      ],
      "metadata": {
        "id": "IchEXTm0GjaQ",
        "outputId": "99891e8a-c711-44e9-ccb7-53cda9e33684",
        "colab": {
          "base_uri": "https://localhost:8080/"
        }
      },
      "execution_count": 50,
      "outputs": [
        {
          "output_type": "execute_result",
          "data": {
            "text/plain": [
              "4"
            ]
          },
          "metadata": {},
          "execution_count": 50
        }
      ]
    },
    {
      "cell_type": "code",
      "source": [],
      "metadata": {
        "id": "a3lzXXPVGmOH"
      },
      "execution_count": null,
      "outputs": []
    }
  ]
}