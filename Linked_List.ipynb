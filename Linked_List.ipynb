{
 "cells": [
  {
   "cell_type": "markdown",
   "metadata": {
    "colab_type": "text",
    "id": "view-in-github"
   },
   "source": [
    "<a href=\"https://colab.research.google.com/github/EISKgit/Linked_List_py/blob/master/Linked_List.ipynb\" target=\"_parent\"><img src=\"https://colab.research.google.com/assets/colab-badge.svg\" alt=\"Open In Colab\"/></a>"
   ]
  },
  {
   "cell_type": "markdown",
   "metadata": {
    "id": "O9B5a2qf8goC"
   },
   "source": [
    "# Creating a Linked List"
   ]
  },
  {
   "cell_type": "code",
   "execution_count": 7,
   "metadata": {
    "id": "MhA4DQTG8pxw"
   },
   "outputs": [],
   "source": [
    "#LL Node\n",
    "class Node:\n",
    "    def __init__(self, value):\n",
    "        self.value = value\n",
    "        self.next = None"
   ]
  },
  {
   "cell_type": "code",
   "execution_count": 131,
   "metadata": {
    "id": "8c1moIK28x0B"
   },
   "outputs": [],
   "source": [
    "#1 create LL class\n",
    "class LinkedList:\n",
    "\n",
    "    #2 constructor\n",
    "    def __init__(self):\n",
    "        self.head=None\n",
    "        self.n=0\n",
    "\n",
    "    #3 length of LL\n",
    "    def __len__(self):\n",
    "      return self.n\n",
    "\n",
    "    #4 insert from head\n",
    "    def insert_head(self, value):\n",
    "      new_node=Node(value)\n",
    "      new_node.next=self.head\n",
    "      self.head=new_node\n",
    "      self.n+=1\n",
    "\n",
    "    #5 Traverse/print LL\n",
    "    def __str__(self):\n",
    "      curr = self.head\n",
    "      res = ''\n",
    "      while curr != None:\n",
    "        res += str(curr.value) + '->'\n",
    "        curr=curr.next\n",
    "      return res[:-2]\n",
    "\n",
    "    #6 Append the new Node(Tail)\n",
    "    def append(self, value):\n",
    "      new_node = Node(value)\n",
    "      if self.head == None:\n",
    "        self.head = new_node\n",
    "        self.n += 1\n",
    "        return\n",
    "\n",
    "      curr = self.head\n",
    "\n",
    "      while curr.next != None:\n",
    "        curr = curr.next\n",
    "      curr.next = new_node\n",
    "      self.n += 1\n",
    "    #7 insert in middle/after in the LL\n",
    "    def insert_after(self, after, value):\n",
    "      new_node = Node(value)\n",
    "      curr = self.head\n",
    "      while curr !=None:\n",
    "        if curr.value == after:\n",
    "          break\n",
    "        curr = curr.next\n",
    "      if curr != None:\n",
    "        new_node.next = curr.next\n",
    "        curr.next = new_node\n",
    "        self.n += 1\n",
    "      else:\n",
    "        return \"Item not found\"\n",
    "#8 deletion / clear / empty\n",
    "    def clear(self):\n",
    "        self.head=None\n",
    "        self.n=0\n",
    "    #From Head / Tail(pop) / by value(remove)\n",
    "    def delete_head(self):\n",
    "        if self.head == None:\n",
    "            return 'List is Empty'\n",
    "        self.head = self.head.next\n",
    "        \n",
    "    def pop(self):\n",
    "        if self.head == None:\n",
    "            return 'List is Empyt'\n",
    "        curr = self.head\n",
    "        if curr.next == None:\n",
    "             return self.delete_head()\n",
    "        while curr.next.next != None:\n",
    "            curr= curr.next\n",
    "        if curr == None:\n",
    "            return \"List is Empty\"\n",
    "        else:\n",
    "            curr.next =None\n",
    "            self.n -= 1\n",
    "        \n",
    "    def remove(self,value):\n",
    "        \n",
    "        if self.head == None:\n",
    "            return \"LL is Empty\"\n",
    "            \n",
    "        if self.head.value == value:\n",
    "            return self.delete_head()\n",
    "            \n",
    "        curr = self.head\n",
    "\n",
    "        while curr.next != None:\n",
    "            if curr.next.value == value:\n",
    "                break\n",
    "            curr=curr.next\n",
    "\n",
    "        if curr.next == None:\n",
    "            return \"item not found\"\n",
    "        else:\n",
    "            curr.next=curr.next.next\n",
    "\n",
    "    def search(self,item):\n",
    "        if self.head == None:\n",
    "            return \"LL is Empty\"\n",
    "\n",
    "        curr = self.head\n",
    "        pos = 0\n",
    "        while curr != None:\n",
    "            if curr.value == item:\n",
    "                return pos\n",
    "            curr=curr.next\n",
    "            pos +=1\n",
    "        return \"Item Not Found\"\n",
    "        \n",
    "    def __getitem__(self,index):\n",
    "        if self.head == None:\n",
    "            return \"LL is Empty\"\n",
    "\n",
    "        curr = self.head\n",
    "        pos = 0\n",
    "        while curr != None:\n",
    "            if pos == index:\n",
    "                return curr.value\n",
    "            curr=curr.next\n",
    "            pos +=1\n",
    "        return \"Item Not Found\"\n",
    "        \n",
    "    def delete_by_index(self,index):\n",
    "        if self.head == None:\n",
    "            return \"LL is Empty\"\n",
    "            \n",
    "        if index == 0:\n",
    "            return self.delete_head()\n",
    "            \n",
    "        curr = self.head\n",
    "        pos = 0\n",
    "\n",
    "        while curr != None:\n",
    "            if pos == index-1:\n",
    "                break\n",
    "            curr=curr.next\n",
    "            pos +=1\n",
    "\n",
    "        if curr == None:\n",
    "            return \"item not found\"\n",
    "        elif curr.next == None:\n",
    "            return \"item not found\"\n",
    "        else:\n",
    "            curr.next=curr.next.next\n",
    "        "
   ]
  },
  {
   "cell_type": "code",
   "execution_count": 132,
   "metadata": {
    "id": "a5WH_P5T-elF"
   },
   "outputs": [],
   "source": [
    "ll=LinkedList()\n",
    "ll.insert_head(1)\n",
    "ll.insert_head(2)\n",
    "ll.insert_head(3)\n",
    "ll.insert_head(4)"
   ]
  },
  {
   "cell_type": "code",
   "execution_count": 124,
   "metadata": {},
   "outputs": [
    {
     "name": "stdout",
     "output_type": "stream",
     "text": [
      "4->3->2->1\n"
     ]
    }
   ],
   "source": [
    "print(ll)"
   ]
  },
  {
   "cell_type": "code",
   "execution_count": 129,
   "metadata": {},
   "outputs": [
    {
     "data": {
      "text/plain": [
       "'item not found'"
      ]
     },
     "execution_count": 129,
     "metadata": {},
     "output_type": "execute_result"
    }
   ],
   "source": [
    "ll.delete_by_index(9)"
   ]
  },
  {
   "cell_type": "code",
   "execution_count": 130,
   "metadata": {},
   "outputs": [
    {
     "name": "stdout",
     "output_type": "stream",
     "text": [
      "4->3->2->1\n"
     ]
    }
   ],
   "source": [
    "print(ll)"
   ]
  },
  {
   "cell_type": "code",
   "execution_count": null,
   "metadata": {},
   "outputs": [],
   "source": []
  }
 ],
 "metadata": {
  "colab": {
   "authorship_tag": "ABX9TyMkOHRrEBv+rTJJJeUdw13X",
   "include_colab_link": true,
   "provenance": []
  },
  "kernelspec": {
   "display_name": "Python 3 (ipykernel)",
   "language": "python",
   "name": "python3"
  },
  "language_info": {
   "codemirror_mode": {
    "name": "ipython",
    "version": 3
   },
   "file_extension": ".py",
   "mimetype": "text/x-python",
   "name": "python",
   "nbconvert_exporter": "python",
   "pygments_lexer": "ipython3",
   "version": "3.12.7"
  }
 },
 "nbformat": 4,
 "nbformat_minor": 4
}
